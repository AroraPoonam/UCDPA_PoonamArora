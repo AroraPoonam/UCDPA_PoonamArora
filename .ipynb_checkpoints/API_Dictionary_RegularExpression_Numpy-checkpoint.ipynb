{
 "cells": [
  {
   "cell_type": "code",
   "execution_count": 1,
   "id": "18262940",
   "metadata": {},
   "outputs": [
    {
     "name": "stdout",
     "output_type": "stream",
     "text": [
      "200\n"
     ]
    }
   ],
   "source": [
    "#get data from astro.json\n",
    "import requests\n",
    "request=requests.get('http://api.open-notify.org/astros.json')\n",
    "#print the response\n",
    "print(request.status_code)"
   ]
  },
  {
   "cell_type": "code",
   "execution_count": 2,
   "id": "1889cbf5",
   "metadata": {},
   "outputs": [
    {
     "name": "stdout",
     "output_type": "stream",
     "text": [
      "{\"message\": \"success\", \"people\": [{\"name\": \"Cai Xuzhe\", \"craft\": \"Tiangong\"}, {\"name\": \"Chen Dong\", \"craft\": \"Tiangong\"}, {\"name\": \"Liu Yang\", \"craft\": \"Tiangong\"}, {\"name\": \"Sergey Prokopyev\", \"craft\": \"ISS\"}, {\"name\": \"Dmitry Petelin\", \"craft\": \"ISS\"}, {\"name\": \"Frank Rubio\", \"craft\": \"ISS\"}, {\"name\": \"Nicole Mann\", \"craft\": \"ISS\"}, {\"name\": \"Josh Cassada\", \"craft\": \"ISS\"}, {\"name\": \"Koichi Wakata\", \"craft\": \"ISS\"}, {\"name\": \"Anna Kikina\", \"craft\": \"ISS\"}], \"number\": 10}\n"
     ]
    }
   ],
   "source": [
    "#print the data\n",
    "print(request.text)"
   ]
  },
  {
   "cell_type": "code",
   "execution_count": 3,
   "id": "9de26124",
   "metadata": {},
   "outputs": [
    {
     "name": "stdout",
     "output_type": "stream",
     "text": [
      "10\n",
      "Cai Xuzhe\n",
      "Chen Dong\n",
      "Liu Yang\n",
      "Sergey Prokopyev\n",
      "Dmitry Petelin\n",
      "Frank Rubio\n",
      "Nicole Mann\n",
      "Josh Cassada\n",
      "Koichi Wakata\n",
      "Anna Kikina\n"
     ]
    }
   ],
   "source": [
    "#extract the names of astronats from the response json\n",
    "#This also demonstrats the dictionary concept where name and craft are the key\n",
    "data=request.json()\n",
    "print(data['number'])\n",
    "for p in data['people']:\n",
    "    print(p['name'])"
   ]
  },
  {
   "cell_type": "code",
   "execution_count": 4,
   "id": "a422b0e7",
   "metadata": {},
   "outputs": [
    {
     "name": "stdout",
     "output_type": "stream",
     "text": [
      "10\n",
      "Cai,Xuzhe\n",
      "Chen,Dong\n",
      "Liu,Yang\n",
      "Sergey,Prokopyev\n",
      "Dmitry,Petelin\n",
      "Frank,Rubio\n",
      "Nicole,Mann\n",
      "Josh,Cassada\n",
      "Koichi,Wakata\n",
      "Anna,Kikina\n"
     ]
    }
   ],
   "source": [
    "#import regular expression\n",
    "import re\n",
    "#regular expression to replace space by comma\n",
    "data=request.json()\n",
    "print(data['number'])\n",
    "for p in data['people']:\n",
    "    print(re.sub(r\" \",\",\",p['name']))"
   ]
  },
  {
   "cell_type": "code",
   "execution_count": 5,
   "id": "5f708792",
   "metadata": {},
   "outputs": [
    {
     "name": "stdout",
     "output_type": "stream",
     "text": [
      "['#excited']\n"
     ]
    }
   ],
   "source": [
    "#import regular expression\n",
    "import re\n",
    "str = \"I am so #excited to present this paper to the audiance, for the 3rd time\"\n",
    "#extract word #excited from the string\n",
    "print(re.findall(r\"#excited\", str))"
   ]
  },
  {
   "cell_type": "code",
   "execution_count": 6,
   "id": "74c4ae07",
   "metadata": {},
   "outputs": [
    {
     "name": "stdout",
     "output_type": "stream",
     "text": [
      "['I am so #excited to present this paper to the audiance', ' for the 3rd time']\n"
     ]
    }
   ],
   "source": [
    "#split the string based on comma\n",
    "print(re.split(r\",\",str))"
   ]
  },
  {
   "cell_type": "code",
   "execution_count": 7,
   "id": "cfdb0735",
   "metadata": {},
   "outputs": [
    {
     "name": "stdout",
     "output_type": "stream",
     "text": [
      "I am so #excited to present this paper to the audiance, for the third time\n"
     ]
    }
   ],
   "source": [
    "#substitue number 3rd with letter third\n",
    "print(re.sub(r\"3rd\",\"third\",str))"
   ]
  },
  {
   "cell_type": "code",
   "execution_count": 8,
   "id": "53b1fd07",
   "metadata": {},
   "outputs": [
    {
     "name": "stdout",
     "output_type": "stream",
     "text": [
      "Addition of Two Arrays: \n",
      "[[ 7. 13.]\n",
      " [ 4. 14.]]\n",
      "\n",
      "Addition of Array elements: \n",
      "19.0\n",
      "\n",
      "Square root of Array1 elements: \n",
      "[[2.         2.64575131]\n",
      " [1.41421356 2.44948974]]\n",
      "\n",
      "Transpose of Array: \n",
      "[[4. 2.]\n",
      " [7. 6.]]\n"
     ]
    }
   ],
   "source": [
    "#Mathematical operations using numpy\n",
    "# Python Program to create\n",
    "# a data type object\n",
    "import numpy as np\n",
    " \n",
    "# First Array\n",
    "arr1 = np.array([[4, 7], [2, 6]], \n",
    "                 dtype = np.float64)\n",
    "                  \n",
    "# Second Array\n",
    "arr2 = np.array([[3, 6], [2, 8]], \n",
    "                 dtype = np.float64) \n",
    " \n",
    "# Addition of two Arrays\n",
    "Sum = np.add(arr1, arr2)\n",
    "print(\"Addition of Two Arrays: \")\n",
    "print(Sum)\n",
    " \n",
    "# Addition of all Array elements\n",
    "# using predefined sum method\n",
    "Sum1 = np.sum(arr1)\n",
    "print(\"\\nAddition of Array elements: \")\n",
    "print(Sum1)\n",
    " \n",
    "# Square root of Array\n",
    "Sqrt = np.sqrt(arr1)\n",
    "print(\"\\nSquare root of Array1 elements: \")\n",
    "print(Sqrt)\n",
    " \n",
    "# Transpose of Array\n",
    "# using In-built function 'T'\n",
    "Trans_arr = arr1.T\n",
    "print(\"\\nTranspose of Array: \")\n",
    "print(Trans_arr)"
   ]
  },
  {
   "cell_type": "code",
   "execution_count": 9,
   "id": "3214a91f",
   "metadata": {},
   "outputs": [
    {
     "ename": "IntegrityError",
     "evalue": "UNIQUE constraint failed: cities.id",
     "output_type": "error",
     "traceback": [
      "\u001b[1;31m---------------------------------------------------------------------------\u001b[0m",
      "\u001b[1;31mIntegrityError\u001b[0m                            Traceback (most recent call last)",
      "Input \u001b[1;32mIn [9]\u001b[0m, in \u001b[0;36m<cell line: 65>\u001b[1;34m()\u001b[0m\n\u001b[0;32m     69\u001b[0m     \u001b[38;5;28;01mfor\u001b[39;00m idx, key \u001b[38;5;129;01min\u001b[39;00m \u001b[38;5;28mzip\u001b[39m(\u001b[38;5;28mrange\u001b[39m(\u001b[38;5;28mlen\u001b[39m(locations\u001b[38;5;241m.\u001b[39mkeys())),\u001b[38;5;28mlist\u001b[39m(locations\u001b[38;5;241m.\u001b[39mkeys())):\n\u001b[0;32m     70\u001b[0m         data \u001b[38;5;241m=\u001b[39m (idx, key, locations[key])\n\u001b[1;32m---> 71\u001b[0m         \u001b[43minsert_entry\u001b[49m\u001b[43m(\u001b[49m\u001b[43mconn\u001b[49m\u001b[43m,\u001b[49m\u001b[43m \u001b[49m\u001b[43mdata\u001b[49m\u001b[43m)\u001b[49m\n\u001b[0;32m     74\u001b[0m \u001b[38;5;28;01melse\u001b[39;00m:\n\u001b[0;32m     75\u001b[0m     \u001b[38;5;28mprint\u001b[39m(\u001b[38;5;124m\"\u001b[39m\u001b[38;5;124mError! cannot create the database connection.\u001b[39m\u001b[38;5;124m\"\u001b[39m)\n",
      "Input \u001b[1;32mIn [9]\u001b[0m, in \u001b[0;36minsert_entry\u001b[1;34m(conn, data)\u001b[0m\n\u001b[0;32m     47\u001b[0m sql \u001b[38;5;241m=\u001b[39m \u001b[38;5;124m'''\u001b[39m\u001b[38;5;124m INSERT INTO cities(id, name, is_metro)\u001b[39m\n\u001b[0;32m     48\u001b[0m \u001b[38;5;124m          VALUES(?,?,?) \u001b[39m\u001b[38;5;124m'''\u001b[39m\n\u001b[0;32m     49\u001b[0m cur \u001b[38;5;241m=\u001b[39m conn\u001b[38;5;241m.\u001b[39mcursor()\n\u001b[1;32m---> 50\u001b[0m \u001b[43mcur\u001b[49m\u001b[38;5;241;43m.\u001b[39;49m\u001b[43mexecute\u001b[49m\u001b[43m(\u001b[49m\u001b[43msql\u001b[49m\u001b[43m,\u001b[49m\u001b[43m \u001b[49m\u001b[43mdata\u001b[49m\u001b[43m)\u001b[49m\n\u001b[0;32m     51\u001b[0m conn\u001b[38;5;241m.\u001b[39mcommit()\n\u001b[0;32m     52\u001b[0m \u001b[38;5;28;01mreturn\u001b[39;00m cur\u001b[38;5;241m.\u001b[39mlastrowid\n",
      "\u001b[1;31mIntegrityError\u001b[0m: UNIQUE constraint failed: cities.id"
     ]
    }
   ],
   "source": [
    "import numpy as np\n",
    "import os\n",
    "import pandas as pd\n",
    "import sqlite3\n",
    "from sqlite3 import Error\n",
    "from sqlalchemy import create_engine\n",
    "import warnings\n",
    "warnings.filterwarnings(\"ignore\")\n",
    "\n",
    "# load the training dataset\n",
    "train = pd.read_csv('train-data.csv')\n",
    "train.head()\n",
    "\n",
    "def create_connection(db_file):\n",
    "    \"\"\" create a database connection to the SQLite database\n",
    "        specified by db_file\n",
    "    :param db_file: database file\n",
    "    :return: Connection object or None\n",
    "    \"\"\"\n",
    "    conn = None\n",
    "    try:\n",
    "        conn = sqlite3.connect(db_file)\n",
    "        return conn\n",
    "    except Error as e:\n",
    "        print(e)\n",
    "\n",
    "    return conn\n",
    "def create_table(conn, create_table_sql):\n",
    "    \"\"\" create a table from the create_table_sql statement\n",
    "    :param conn: Connection object\n",
    "    :param create_table_sql: a CREATE TABLE statement\n",
    "    :return:\n",
    "    \"\"\"\n",
    "    try:\n",
    "        c = conn.cursor()\n",
    "        c.execute(create_table_sql)\n",
    "    except Error as e:\n",
    "        print(e)\n",
    "def insert_entry(conn, data):\n",
    "    \"\"\"\n",
    "    Create a new task\n",
    "    :param conn:\n",
    "    :param data:\n",
    "    :return:\n",
    "    \"\"\"\n",
    "\n",
    "    sql = ''' INSERT INTO cities(id, name, is_metro)\n",
    "              VALUES(?,?,?) '''\n",
    "    cur = conn.cursor()\n",
    "    cur.execute(sql, data)\n",
    "    conn.commit()\n",
    "    return cur.lastrowid\n",
    "database = r'cities_db.db'\n",
    "#os.remove(database)\n",
    "sql_create_cities_table = \"\"\" CREATE TABLE IF NOT EXISTS cities (\n",
    "                                    id integer PRIMARY KEY,\n",
    "                                    name text NOT NULL,\n",
    "                                    is_metro BOOLEAN NOT NULL CHECK (is_metro IN (0, 1))\n",
    "                                ); \"\"\"\n",
    "\n",
    "# create a database connection\n",
    "conn = create_connection(database)\n",
    "\n",
    "# create tables\n",
    "if conn is not None:\n",
    "    # create cities table\n",
    "    create_table(conn, sql_create_cities_table)\n",
    "    locations = { i: (1 if i in ['Mumbai', 'Delhi', 'Kolkata', 'Chennai'] else 0) for i in train['Location'].unique()}\n",
    "    for idx, key in zip(range(len(locations.keys())),list(locations.keys())):\n",
    "        data = (idx, key, locations[key])\n",
    "        insert_entry(conn, data)\n",
    "\n",
    "\n",
    "else:\n",
    "    print(\"Error! cannot create the database connection.\")\n",
    "\n",
    "\n",
    "engine = create_engine('sqlite:///%s'%database)\n",
    "with engine.connect() as con:\n",
    "    rs = con.execute('Select id, name, is_metro from cities')\n",
    "    df = pd.DataFrame(rs.fetchall())\n",
    "    df.columns = rs.keys()\n",
    "    \n",
    "df.head()\n"
   ]
  },
  {
   "cell_type": "code",
   "execution_count": null,
   "id": "58705493",
   "metadata": {},
   "outputs": [],
   "source": []
  }
 ],
 "metadata": {
  "kernelspec": {
   "display_name": "Python 3 (ipykernel)",
   "language": "python",
   "name": "python3"
  },
  "language_info": {
   "codemirror_mode": {
    "name": "ipython",
    "version": 3
   },
   "file_extension": ".py",
   "mimetype": "text/x-python",
   "name": "python",
   "nbconvert_exporter": "python",
   "pygments_lexer": "ipython3",
   "version": "3.9.12"
  }
 },
 "nbformat": 4,
 "nbformat_minor": 5
}
